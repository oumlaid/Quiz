{
 "cells": [
  {
   "cell_type": "code",
   "execution_count": 2,
   "metadata": {},
   "outputs": [
    {
     "name": "stdout",
     "output_type": "stream",
     "text": [
      "voici notre quiz,tu as 3 chances\n",
      "quelle est la couleur du cheval blanc d'Henri 4?j\n",
      "il te reste 2 chances\n",
      "quelle est la couleur du cheval blanc d'Henri 4?blanc\n",
      "il te reste 1 chances\n",
      "quelle est la couleur du cheval blanc d'Henri 4?d\n",
      "dommage tu as perdu le jeu\n"
     ]
    }
   ],
   "source": [
    "chances=3\n",
    "print(\"voici notre quiz,tu as 3 chances\")\n",
    "reponse1=input(\"quelle est la couleur du cheval blanc d'Henri 4?\")\n",
    "\n",
    "while r1!=\"blanc\":\n",
    "    chances-=1\n",
    "    if chances==0:\n",
    "        print(\"dommage tu as perdu le jeu\")\n",
    "        break\n",
    "    else:\n",
    "        print(\"il te reste {} chances\".format(chances))\n",
    "        reponse1=input(\"quelle est la couleur du cheval blanc d'Henri 4?\")\n",
    "if chances>0:\n",
    "    reponse2=input(\"combien de fois la France a gagné la coupe du monde?\")\n",
    "    while r2!=\"2\":\n",
    "        chances-=1\n",
    "        if chances==0:\n",
    "            print(\"dommage tu as perdu le jeu\")\n",
    "            break\n",
    "        else:\n",
    "            print(\"il te reste {} chances\".format(chances))\n",
    "            reponse2=input(\"combien de fois la France a gagné la coupe du monde?\")\n",
    "if chances>0:\n",
    "    reponse3=input(\"combien de vies posséde un chat?\")\n",
    "    while r3!=\"9\":\n",
    "        chances-=1\n",
    "        if chances==0:\n",
    "                print(\"dommage tu as perdu le jeu\")\n",
    "                break\n",
    "        else:\n",
    "            print(\"il te reste {} chances\".format(chances))\n",
    "            reponse3=input(\"combien de vies posséde un chat?\")\n",
    "if chances>0:\n",
    "    print(\"bravo tu as gagné le jeu\")\n",
    "            \n",
    "         \n",
    "        \n",
    "        \n",
    "    "
   ]
  },
  {
   "cell_type": "raw",
   "metadata": {},
   "source": []
  },
  {
   "cell_type": "code",
   "execution_count": null,
   "metadata": {},
   "outputs": [],
   "source": []
  }
 ],
 "metadata": {
  "kernelspec": {
   "display_name": "Python 3",
   "language": "python",
   "name": "python3"
  },
  "language_info": {
   "codemirror_mode": {
    "name": "ipython",
    "version": 3
   },
   "file_extension": ".py",
   "mimetype": "text/x-python",
   "name": "python",
   "nbconvert_exporter": "python",
   "pygments_lexer": "ipython3",
   "version": "3.6.5"
  }
 },
 "nbformat": 4,
 "nbformat_minor": 2
}
